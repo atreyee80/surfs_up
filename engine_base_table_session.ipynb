{
 "cells": [
  {
   "cell_type": "code",
   "execution_count": 1,
   "id": "caroline-philippines",
   "metadata": {},
   "outputs": [],
   "source": [
    "import sqlalchemy\n",
    "from sqlalchemy.ext.automap import automap_base\n",
    "from sqlalchemy.orm import Session\n",
    "from sqlalchemy import create_engine,func "
   ]
  },
  {
   "cell_type": "code",
   "execution_count": 2,
   "id": "dense-teacher",
   "metadata": {},
   "outputs": [],
   "source": [
    "#In order to connect to our SQLite database, we need to use the create_engine() function\n",
    "engine = create_engine(\"sqlite:///hawaii.sqlite\")"
   ]
  },
  {
   "cell_type": "code",
   "execution_count": 3,
   "id": "numeric-meditation",
   "metadata": {},
   "outputs": [],
   "source": [
    "#Automap Base creates a base class for an automap schema in SQLAlchemy\n",
    "Base = automap_base()"
   ]
  },
  {
   "cell_type": "code",
   "execution_count": 4,
   "id": "physical-rider",
   "metadata": {},
   "outputs": [],
   "source": [
    "# This \n",
    "Base.prepare(engine, reflect=True)"
   ]
  },
  {
   "cell_type": "code",
   "execution_count": null,
   "id": "bottom-northern",
   "metadata": {},
   "outputs": [],
   "source": [
    "#Save references to each table\n",
    "Measurement = Base.classes.measurement\n",
    "Station = Base.classes.station"
   ]
  },
  {
   "cell_type": "code",
   "execution_count": null,
   "id": "animal-valve",
   "metadata": {},
   "outputs": [],
   "source": [
    "#Create our session (link) from python to  the DB\n",
    "session = Session(engine)"
   ]
  }
 ],
 "metadata": {
  "kernelspec": {
   "display_name": "Python 3",
   "language": "python",
   "name": "python3"
  },
  "language_info": {
   "codemirror_mode": {
    "name": "ipython",
    "version": 3
   },
   "file_extension": ".py",
   "mimetype": "text/x-python",
   "name": "python",
   "nbconvert_exporter": "python",
   "pygments_lexer": "ipython3",
   "version": "3.8.5"
  }
 },
 "nbformat": 4,
 "nbformat_minor": 5
}
